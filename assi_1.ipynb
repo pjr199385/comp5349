{
 "cells": [
  {
   "cell_type": "code",
   "execution_count": 2,
   "metadata": {},
   "outputs": [],
   "source": [
    "#!/usr/bin/python3\n",
    "import sys\n",
    "import csv\n",
    "\n",
    "\n",
    "def category_mapper():\n",
    "    print('inside')\n",
    "    n = 1\n",
    "    reader = csv.reader(sys.stdin)\n",
    "    for line in reader:\n",
    "        n = n + 1\n",
    "        if len(line) != 12 :\n",
    "          continue\n",
    "        video_id = line[0].strip()\n",
    "        country = line[11].strip()\n",
    "        category = line[3].strip()\n",
    "        vnc = video_id + country\n",
    "\n",
    "        print(\"{}\\t{}\".format(category, vnc))\n",
    "\n",
    "\n",
    "if __name__ == \"__main__\":\n",
    "    category_mapper()"
   ]
  },
  {
   "cell_type": "code",
   "execution_count": 3,
   "metadata": {},
   "outputs": [],
   "source": []
  },
  {
   "cell_type": "code",
   "execution_count": null,
   "metadata": {},
   "outputs": [],
   "source": []
  }
 ],
 "metadata": {
  "kernelspec": {
   "display_name": "Python 3",
   "language": "python",
   "name": "python3"
  },
  "language_info": {
   "codemirror_mode": {
    "name": "ipython",
    "version": 3
   },
   "file_extension": ".py",
   "mimetype": "text/x-python",
   "name": "python",
   "nbconvert_exporter": "python",
   "pygments_lexer": "ipython3",
   "version": "3.6.5"
  }
 },
 "nbformat": 4,
 "nbformat_minor": 2
}
